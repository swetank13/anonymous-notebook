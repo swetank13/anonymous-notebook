{
 "cells": [
  {
   "cell_type": "markdown",
   "id": "33f25be1-1332-460f-b0e7-a87bab191aab",
   "metadata": {},
   "source": [
    "<h2 align=\"center\">Python Interview Question</h2>"
   ]
  },
  {
   "cell_type": "markdown",
   "id": "4432c512-e1d0-49a2-a192-5912ca0fa968",
   "metadata": {},
   "source": [
    "#### OOP Concept\n",
    "- Self variable: self is the default variable which is always pointing to the current object (like this keyword in Java). By using self, we can access instance variables and instance methods of object.\n",
    "- Garbage Collection:\n",
    "  - Destructor is a special method and the name should be del. Just before destroying an object Garbage Collector always calls destructor to perform clean up activities (Resource de allocation activities like close database connection etc).\n",
    "  - Once destructor execution completed then Garbage Collector automatically destroys that object."
   ]
  },
  {
   "cell_type": "markdown",
   "id": "455e6c32-18a5-4eb6-b891-6f3de88a850a",
   "metadata": {},
   "source": [
    "#### Common interview question of list\n",
    "1. Difference between append() and extend()\n",
    "   append([1,2]) adds the list as a single element where as extend([1,2]) adds each element individually\n",
    "2. Reverse without using reverse(): l[::-1]\n",
    "3. List comprehension is not a method, but heavily used: [x**2 for x in range(5) if x % 2 == 0]"
   ]
  },
  {
   "cell_type": "markdown",
   "id": "54c31119-db88-44ce-9b9d-c802c2624f8a",
   "metadata": {},
   "source": [
    "#### Decorators\n",
    "- Decorators can be thought of as functions which modify the functionality of another function. They help to make your code shorter.\n",
    "- Ex: def new_decorator(func):\n",
    "  - def wrap_func():\n",
    "    print(\"Code would be here, before executing the func\")\n",
    "    func()\n",
    "    print(\"Code here will execute after the func()\")\n",
    "    return wrap_func\n",
    "- @new_decorator\n",
    "- def func_needs_decorator():\n",
    "    print(\"This function is in need of a Decorator\")\n",
    "- func_needs_decorator()"
   ]
  },
  {
   "cell_type": "markdown",
   "id": "1a488a59-6b29-4912-b0dc-53406b5e6e49",
   "metadata": {},
   "source": [
    "#### Frequently Asked Questions"
   ]
  },
  {
   "cell_type": "markdown",
   "id": "07d021d7-bf6a-4849-a109-af482dd548fd",
   "metadata": {},
   "source": [
    "- What is a `Generator` in Python, and how is it different from a list?\n",
    "  - A Generator is a special type of iterator in Python that yields items one at a time, instead of storing them in memory all at once.\n",
    "Created using a function with yield or by using generator expressions.\n",
    "Lists are stored in memory, whereas generators compute items on the fly and do not hold the entire collection in memory.\n",
    "This makes generators more memory-efficient, especially for large datasets.\n",
    "- What is the difference between deepcopy() and copy() in Python ?\n",
    "  - copy() creates a shallow copy of an object, meaning it copies the object’s references, not the objects themselves. deepcopy() creates a deep copy of an object, meaning it recursively copies all objects, so changes to nested objects do not affect the original.\n",
    "- List comprehension provides a concise way to create lists in Python. It allows for filtering and applying transformations in one line of code.\n",
    "  - - List comprehension: my_list = [i for i in range(1, 10)]\n",
    "- What is the difference between is and == in Python ?\n",
    "  - is checks for object identity, i.e., whether two variables point to the same object in memory. == checks for value equality, i.e., whether two objects have the same value.\n",
    "- What is `Data Smoothing` ? How do you do it?\n",
    "  - Data smoothing is an approach that is used to eliminate outliers from data sets. This technique helps to reduce noise and make patterns more recognizable. ‘Roughing out the edges’ helps to improve machine learning as well.\n",
    "Algorithms are used in Python to reduce noise and smooth data sets. A sample of data smoothing algorithms includes the Savitzky-Golay filter and the Triangular Moving Average.\n",
    "- How are arguments passed by value or by reference in Python?\n",
    "  - Everything in Python is an object and all variables hold references to the objects. The reference values are according to the functions as a result, you cannot change the value of the references. However, you can change the objects if it is mutable.\n",
    "- Swapcase function in Python: It is a string’s function that converts all uppercase characters into lowercase and vice versa.\n",
    "string.swapcase()\n",
    "- Can we Pass a function as an argument in Python?\n",
    "  - Yes, Several arguments can be passed to a function, including objects, variables (of the same or distinct data types), and functions. Functions can be passed as parameters to other functions because they are objects. Higher-order functions are functions that can take other functions as arguments.\n",
    "- .iloc: Accesses data by integer position (like zero-based Python indexing).\n",
    "  - Example: df.iloc[0, 1] (first row, second column)"
   ]
  },
  {
   "cell_type": "markdown",
   "id": "2e43c1aa-96a6-4e9f-948d-b95bbe0be4bd",
   "metadata": {},
   "source": [
    "#### Numpy\n",
    "- What is NumPy used for? What are its benefits?\n",
    "  - NumPy is an open-source library that is used to analyze data and includes support for Python’s multi-dimensional arrays and matrices. NumPy is used for a variety of mathematical and statistical operations.\n",
    "- When would you use NumPy arrays over Python lists?\n",
    "  - Python lists are a basic building block of the coding language, and they are a useful data container for a variety of functions. With Python lists, for example, vectorized operations aren’t possible, including element-wise multiplication, whereas it is possible with NumPy arrays. Lists also require that Python store the type of information of every element since they support objects of different types. This means a type dispatching code must be executed each time an operation on an element is performed.\n",
    "Also, each interaction would have to undergo type checks and require Python API bookkeeping, resulting in very few operations being carried out by C loops.\n",
    "- How do you handle missing values in a NumPy array: We can use np.isnan() to find missing values (NaNs) and handle them (e.g., replacing with mean/median) using boolean indexing.\n",
    "- `Strides` tell NumPy how to walk through the memory of a multi-dimensional array efficiently without copying data. Enables efficient views and advanced slicing without copying data.\n",
    "- Use `np.linspace` when you want to specify how many points to generate within an interval.\n",
    "  - Ex: import numpy as np\n",
    "  - arr = np.linspace(0, 1, num=5)\n",
    "  - print(arr)\n",
    "  - Output: [0. 0.25 0.5 0.75 1.]\n",
    "- Use `np.arange` when you want to specify the spacing between points."
   ]
  },
  {
   "cell_type": "markdown",
   "id": "0f8862e1-b844-4a9f-9acd-b3c7607d44ff",
   "metadata": {},
   "source": [
    "#### Pandas\n",
    "- `Pandas` is an open-source Python library built on top of NumPy designed for data manipulation and analysis. It provides key data structures called Series (1D labeled array) and DataFrame (2D labeled table).\n",
    "- Frequently used method\n",
    "  - df.describe() # Dataframe Statistics\n",
    "  - df.shape # Shows no of rows and columns\n",
    "  - movies_df.columns # Print the name of columns\n",
    "  - df.industry.unique() # How many unique movie industries are there in our dataset\n",
    "  - movies_df.industry.value_counts() # How many movies are there per industry in our dataset\n",
    "  - movies_df[(movies_df.release_year>=2000) & (movies_df.release_year<=2010)] # Row Filtering\n",
    "  - movies_df[\"age\"] = movies_df['release_year'].apply(lambda x: 2023-x) # Create new column from existing column\n",
    "  - movies_df = movies_df.fillna(0) # Fill all NaN with one specific value\n",
    "- Sort a DataFrame by column values: df.sort_values(by='column_name', ascending=True).\n",
    "- Vectorized operation in Pandas: Operations applied element-wise across series or dataframes without explicit loops, allowing for more efficient computation.\n",
    "- Optimize Pandas performance on large datasets: Use vectorized operations, proper data types, and processing data in chunks to reduce memory usage and improve speed.\n",
    "- Resampling: Resampling allows you to change the frequency of your time series data by aggregating data points. For example, converting daily data to weekly or monthly data by applying aggregation like sum or mean (ex: weekly_data = data.resample('W').mean()).\n",
    "- Rolling windows allow you to apply functions like mean or sum over a sliding window of a fixed size, which is useful for smoothing or analyzing trends (ex: rolling_mean = data['Value'].rolling(window=3).mean())."
   ]
  },
  {
   "cell_type": "markdown",
   "id": "0c623597-85c9-4e07-b5bd-6cfa7707a540",
   "metadata": {},
   "source": [
    "#### Matplotlib & Seaborn\n",
    "- The purpose and best use cases for each plot\n",
    "  - Line charts for trends over time or continuous data.\n",
    "  - Pie charts for showing proportions of categories.\n",
    "  - Bar charts for comparing categorical data or aggregated summaries.\n",
    "  - Histograms for understanding the distribution of numeric data.\n",
    "  - Scatter plots for investigating relationships or correlations between variables.\n",
    "- Matplotlib(from matplotlib import pyplot as plt) is a low-level library providing extensive control and flexibility for all types of plots, while Seaborn is built on top of Matplotlib and offers higher-level, more visually appealing statistical graphics with simpler syntax for complex visualizations."
   ]
  }
 ],
 "metadata": {
  "kernelspec": {
   "display_name": "Python 3 (ipykernel)",
   "language": "python",
   "name": "python3"
  },
  "language_info": {
   "codemirror_mode": {
    "name": "ipython",
    "version": 3
   },
   "file_extension": ".py",
   "mimetype": "text/x-python",
   "name": "python",
   "nbconvert_exporter": "python",
   "pygments_lexer": "ipython3",
   "version": "3.10.11"
  }
 },
 "nbformat": 4,
 "nbformat_minor": 5
}
