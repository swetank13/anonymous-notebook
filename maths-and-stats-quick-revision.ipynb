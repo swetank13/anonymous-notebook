{
 "cells": [
  {
   "cell_type": "markdown",
   "id": "b3b1c38c-9eda-4061-80c7-96465c792048",
   "metadata": {},
   "source": [
    "<h3 align=\"center\">Data & Visualization Basics</h3>"
   ]
  },
  {
   "cell_type": "markdown",
   "id": "fd6e9011-a070-4b4a-ba3e-d58b0d69c8a0",
   "metadata": {},
   "source": [
    "#### Types of data\n",
    "- Nominal data consists of categories or labels with no inherent order or ranking.\n",
    "- Ordinal data, unlike nominal data, has a specific order or ranking among categories.\n",
    "- Continuous data encompasses an infinite range of precise values, often with decimals.\n",
    "- Discrete data, on the other hand, comprises distinct, countable numerical values."
   ]
  },
  {
   "cell_type": "markdown",
   "id": "6714ee07-6a8e-4c23-99fe-a25c613af16f",
   "metadata": {},
   "source": [
    "#### Visualization Basics\n",
    "- Pie chart and Bar chart\n",
    "  - Use a bar chart when you have benchmark values to compare with.\n",
    "  - Use a Horizontal bar chart when category labels are long.\n",
    "  - Use a Horizontal bar chart instead of a pie chart when the number of categories is more than 5.\n",
    "  - Use a vertical bar chart (Column chart) for time series data.\n",
    "- Histogram and Line chart\n",
    "  - Histograms are primarily used to show the frequency distribution of a continuous or discrete dataset.\n",
    "  - In a histogram, all bins (buckets) are of equal size.\n",
    "  - A line chart is useful in presenting the trend or change in data over a period.\n",
    "  - A stacked column chart is used to represent and compare multiple categories in a single bar, while also displaying the overall total.\n",
    "- Scatter Plot and Bubble Plot\n",
    "  - Scatter Plot helps in\n",
    "    - Outlier detection\n",
    "    - Visualizing the relationship between 2 variables (ex: area vs price, height vs exam score)\n",
    "    - Identifying trend (ex: linear regression)\n",
    "  - A bubble plot (or bubble chart) is used primarily in scenarios where you want to visualize relationships among three or more numeric variables in a single chart. It extends a scatter plot by adding a third dimension through the size of the bubbles (and sometimes a fourth dimension through color).\n",
    "  - A bubble plot is best suited for exploring and communicating multivariate data relationships visually, where size and position convey important insights about three variables simultaneously."
   ]
  },
  {
   "cell_type": "markdown",
   "id": "36ed2743-17d0-4bc7-abba-f1097924692a",
   "metadata": {},
   "source": [
    "<h3 align=\"center\">Measures Of Central Tendency and Dispersion</h3>"
   ]
  },
  {
   "cell_type": "markdown",
   "id": "a1f855a7-8333-44ac-9197-f703e256fcb1",
   "metadata": {},
   "source": [
    "#### Descriptive Vs Inferential Statistics\n",
    "- Inferential statistics involve making predictions or drawing conclusions about a population based on a sample.\n",
    "- Descriptive statistics are used to summarize and describe data, providing an overview of its main characteristics."
   ]
  },
  {
   "cell_type": "markdown",
   "id": "4ff678aa-208c-4863-8cfd-c81ac13c908e",
   "metadata": {},
   "source": [
    "#### Measures of Dispersion (Variability): Range, IQR\n",
    "- \"IQR\" and \"Range\" also referred to as measures of dispersion or variability.\n",
    "- Range, calculated as Maximum Value - Minimum Value, reflects data spread.\n",
    "- Unlike Range, IQR (Inter Quartile Range) is less influenced by outliers, making it a robust measure.\n",
    "- Quartile Q1, Q2, and Q3 correspond to the 25th, 50th, and 75th percentiles, respectively.\n",
    "- The 50th percentile is commonly known as the median.\n",
    "- IQR is the difference between Q3 and Q1 showing the spread of the middle 50% of data."
   ]
  },
  {
   "cell_type": "markdown",
   "id": "ac4aadb3-f283-4809-bae8-68062ddbbcab",
   "metadata": {},
   "source": [
    "#### Outlier Treatment using IQR\n",
    "- IQR = Q3-Q1 # Get Q1 and Q3 value df.height.quantile([0.25,0.75])). lower and upper boundries for outlier detection\n",
    "  - lower_limit = (Q1 - (1.5 * IQR))\n",
    "  - upper_limit = (Q3 + (1.5 * IQR))"
   ]
  },
  {
   "cell_type": "markdown",
   "id": "4a934922-21fb-4780-b798-252d9648f3a3",
   "metadata": {},
   "source": [
    "#### Measures of Dispersion: Variance and Standard Deviation\n",
    "- Variance is a measure of how spread out a distribution is. It means How far each number is from every other number in a dataset. It is calculated as the average of the squared differences from the mean.\n",
    "- The smaller the variance, the less spread out the data is. Conversely, the larger the variance, the more spread out the data is.\n",
    "- Standard deviation is a measure of the amount of variation or dispersion of a set of values. It is calculated as the square root of the variance.\n",
    "- The smaller the standard deviation, the closer the data points are to the mean. Conversely, the larger the standard deviation, the more spread out the data points are.\n",
    "- The stock market's volatility is the best use case for variance and standard deviation."
   ]
  },
  {
   "cell_type": "markdown",
   "id": "def0bba2-37ed-4fb6-ae19-f185368aacaa",
   "metadata": {},
   "source": [
    "#### Correlation and Causation\n",
    "- Correlation is a statistical measure that shows the degree to which two variables are related.\n",
    "- A correlation coefficient can range from -1 to 1. -1 (perfect negative correlation) < 0 (no correlation) < 1 (perfect positive correlation).\n",
    "- Correlation: A statistical relationship between two variables, where changes in one variable are associated with changes in another, but it does not imply causation.\n",
    "  - Example: Correlation example: Ice cream sales and drowning incidents often increase together during summer months. These two variables are correlated because both increase in warm weather. However, buying ice cream does not cause drowning incidents.\n",
    "- Causation: A cause-and-effect relationship between variables, where changes in one variable directly lead to changes in another.\n",
    "  - Example: Smoking causes an increase in the risk of lung cancer. Here, smoking is the direct cause, and the increase in lung cancer cases is the effect."
   ]
  },
  {
   "cell_type": "markdown",
   "id": "1a3f2764-5a8d-4bbb-ba08-b1b00d64e873",
   "metadata": {},
   "source": [
    "<h3 align=\"center\">Probability and Distributions</h3>"
   ]
  },
  {
   "cell_type": "markdown",
   "id": "875cfc72-def5-4bcf-b6cc-56bd3383221b",
   "metadata": {},
   "source": [
    "#### Distribution\n",
    "- Distribution: Arrangement or spread of different values.\n",
    "- Normal Distribution: Most values clustered in the middle, forming a bell-shaped curve.\n",
    "- Probability Distribution: Estimates the likelihood of various outcomes based on chance.\n",
    "- Discrete Distribution: Things happen in specific steps or groups, like counting numbers.\n",
    "- Continuous Distribution: Values occur anywhere within a range, such as height or weight measurements."
   ]
  },
  {
   "cell_type": "markdown",
   "id": "097c4610-4044-4e63-8ffc-7c41d3be7929",
   "metadata": {},
   "source": [
    "### Skewness\n",
    "- Right-skewed distribution: Most data on the left with a few high values extending right.\n",
    "- Left-skewed distribution: Most data on the right with a few low values extending left.\n",
    "- Zero-skewed distribution: Data evenly spread around the mean, forming a symmetrical shape.\n",
    "- Normal Distribution\n",
    "  - Mean: The average value, calculated by summing all values and dividing by their count.\n",
    "  - Standard Deviation: Measures how far data is spread from the mean; lower indicates closer to average, higher indicates more spread out.\n",
    "  - 68-95-99.7 Rule: In a normal distribution, 68% of data falls within one standard deviation from the mean, 95% within two, and nearly 99.7% within three standard deviations.\n",
    "  - An outlier is a number/value in a set that is much higher or lower than the others.\n",
    "  - Outliers can be identified using a normal distribution and standard deviation, as they typically fall far outside the typical range of values."
   ]
  },
  {
   "cell_type": "markdown",
   "id": "475ef7b5-4d83-4a8d-9db1-046a0257815e",
   "metadata": {},
   "source": [
    "### Z Score\n",
    "- Z-score: Shows how many standard deviations a data point is from the mean.\n",
    "- Formula for Z-score: (x−μ)/σ\n",
    "- Uses: Comparing datasets and removing outliers.\n",
    "- Identifying Outliers: Typically, outliers are identified when the Z-score exceeds 3 or falls below -3."
   ]
  },
  {
   "cell_type": "markdown",
   "id": "6908afc7-b540-4a57-84b0-ab51dd9d3ffe",
   "metadata": {},
   "source": [
    "<h3 align=\"center\">Central Limit Theorem</h3>"
   ]
  },
  {
   "cell_type": "markdown",
   "id": "31b8bcc9-6229-44d1-ae63-0f42d4eee2c6",
   "metadata": {},
   "source": [
    "- `The Law of Large Numbers` states that as the number of trials increases, the average of the trial result gets closer to the theoretical or real average.\n",
    "- `The central Limit Theorem` states that as the sample size increases, the distribution of sample means approaches a normal distribution, regardless of the population's original distribution.\n",
    "- For sample sizes of 30 or more, sample means and proportions tend to follow a nearly normal distribution.\n",
    "- The standard error quantifies the precision of a sample mean, calculated as the sample standard deviation divided by the square root of the sample size."
   ]
  },
  {
   "cell_type": "markdown",
   "id": "d32cd046-f139-4191-9ccc-6c2177d39a0c",
   "metadata": {},
   "source": [
    "<h3 align=\"center\">Hypothesis Testing</h3>"
   ]
  },
  {
   "cell_type": "markdown",
   "id": "fb0e9074-03d4-45c5-8d3b-22bafbb6a341",
   "metadata": {},
   "source": [
    "#### Null vs Alternate Hypothesis\n",
    "- Hypothesis testing is a statistical technique for decision-making or inferring population characteristics.\n",
    "- Null Hypothesis (H0): Represents a statement of no effect or no difference, serving as the benchmark in hypothesis testing.\n",
    "- Alternative Hypothesis (Ha): Proposes a new effect or difference, challenging the null hypothesis."
   ]
  },
  {
   "cell_type": "markdown",
   "id": "3de967a5-6766-4501-95b4-0d38121aa240",
   "metadata": {},
   "source": [
    "#### Z Test, Rejection Region\n",
    "- Z Test has 2 type\n",
    "  1. Rejection region\n",
    "  2. P-Value\n",
    "- Z-Test: A statistical test used to determine if there's a significant difference between sample and population means.\n",
    "- Significance Level (Alpha): Defines the threshold for rejecting the null hypothesis, commonly set at 0.05 or 5%.\n",
    "  - Formula: (1 - confidence interval)\n",
    "- Critical Z-Value (Z(crit)): The cut-off point in a Z-test distinguishing the rejection region for the null hypothesis.\n",
    "- Rejection Region: The area beyond the critical Z-value (Z(crit)) where, if the Z-score falls, the null hypothesis is rejected due to significant evidence."
   ]
  },
  {
   "cell_type": "markdown",
   "id": "545951c9-fd7f-420b-bcc6-3c112f0e236a",
   "metadata": {},
   "source": [
    "#### Z Test, P-Value\n",
    "- P-Value: Assuming the null hypothesis is correct, what is the probability of obtaining results as extreme as observed in a statistical test.\n",
    "- If the p-value is less than the chosen significance level (e.g., 0.05), it suggests strong evidence against the null hypothesis, leading to its rejection."
   ]
  },
  {
   "cell_type": "markdown",
   "id": "bf6d8bb1-7034-43cb-a5cb-4beb27b0dc75",
   "metadata": {},
   "source": [
    "#### One-Tailed vs Two-Tailed Test\n",
    "- One-Tail Test: Checks if a parameter is significantly different in one direction (greater or less).\n",
    "- Two-Tail Test: Evaluates if a parameter is significantly different in any direction (greater or less)."
   ]
  },
  {
   "cell_type": "markdown",
   "id": "0d74591f-2da9-439c-a351-384b83155146",
   "metadata": {},
   "source": [
    "#### Type 1 and Type 2 Errors\n",
    "- Type 1 Error: Occurs when we incorrectly reject a true null hypothesis.\n",
    "- Type 2 Error: Occurs when we fail to reject a false null hypothesis.\n",
    "- Type 1 error is also known as a \"false positive\" while Type 2 error is a \"false negative\".\n",
    "- Beta (β): The probability of making a Type 2 error (false negative).\n",
    "- Statistical Power: The probability of correctly rejecting a false null hypothesis, equal to 1−β.\n",
    "- Balancing Type 1 and Type 2 errors is crucial in statistical analysis."
   ]
  },
  {
   "cell_type": "markdown",
   "id": "6e24dda7-eb62-45d1-8685-dafe2a9a3e49",
   "metadata": {},
   "source": [
    "#### Statistical power & effect size\n",
    "- Statistical power, denoted as 1−β1−β, represents the probability of correctly rejecting a false null hypothesis in a hypothesis test.\n",
    "- Effect size quantifies the magnitude of the difference or relationship between two groups or variables in a study."
   ]
  },
  {
   "cell_type": "markdown",
   "id": "4010ff3c-5ee3-42fa-a263-fced0aaba0e8",
   "metadata": {},
   "source": [
    "#### A/B Testing\n",
    "- A/B Testing: Compares two versions (A and B) to determine which performs better based on user engagement and relevant metrics.\n",
    "- One-Sample Test: Used to check if a sample significantly differs from known population parameters.\n",
    "- Two-Sample Test: Compares two independent sample data sets to identify significant differences between their means or proportions."
   ]
  },
  {
   "cell_type": "markdown",
   "id": "8bafd92d-98c0-4731-9538-d2a3862300df",
   "metadata": {},
   "source": [
    "#### 9.15: A/B Testing using Z Test\n",
    "- Control group: Baseline for comparing experimental effects.\n",
    "- Test group: Subjects exposed to experimental treatment for evaluation.\n",
    "- Statistical tests:\n",
    "  - Use the Z-test when the sample size is >30.\n",
    "  - Use the T-test when the sample size is ≤30."
   ]
  },
  {
   "cell_type": "markdown",
   "id": "4557fe29-8ffa-4149-b733-26070c3870b1",
   "metadata": {},
   "source": [
    "<h3 align=\"center\">Frequently Asked Questions</h3>"
   ]
  },
  {
   "cell_type": "markdown",
   "id": "a730338a-6584-40d9-ba75-67796c11731d",
   "metadata": {},
   "source": [
    "- Explain bias-variance tradeoff.\n",
    "  - Bias: model’s error due to simplification/interpolation (underfitting).\n",
    "  - Variance: error due to model sensitivity to training fluctuations (overfitting).\n",
    "  - Balance needed for model generalization.\n",
    "- Difference between correlation and covariance?\n",
    "  - Covariance indicates direction of linear relationship; unbounded values.\n",
    "  - Correlation quantifies strength and direction between -1 and 1.\n",
    "- What is a p-value?\n",
    "  - Probability of observing data assuming null hypothesis true.\n",
    "  - Low p-value (<0.05) indicates evidence against null hypothesis.\n",
    "- Type I and Type II errors?\n",
    "  - Type I: false positive (rejecting true null hypothesis).\n",
    "  - Type II: false negative (accepting false null hypothesis).\n",
    "- Explain `principal component analysis (PCA)`.\n",
    "  - Reduces data dimensionality by transforming features into uncorrelated components keeping most variance.\n",
    "- Hypothesis testing steps?\n",
    "  - Formulate null & alternative hypotheses.\n",
    "  - Choose significance level.\n",
    "  - Calculate test statistic & p-value.\n",
    "  - Decide to reject/fail null hypothesis.\n",
    "- Multicollinearity problem?\n",
    "  - High correlation among features inflates variance of coefficients; reduce with PCA, drop features."
   ]
  },
  {
   "cell_type": "code",
   "execution_count": null,
   "id": "3e071c7e-2c77-46eb-ab6d-e461c1aa3935",
   "metadata": {},
   "outputs": [],
   "source": []
  }
 ],
 "metadata": {
  "kernelspec": {
   "display_name": "Python 3 (ipykernel)",
   "language": "python",
   "name": "python3"
  },
  "language_info": {
   "codemirror_mode": {
    "name": "ipython",
    "version": 3
   },
   "file_extension": ".py",
   "mimetype": "text/x-python",
   "name": "python",
   "nbconvert_exporter": "python",
   "pygments_lexer": "ipython3",
   "version": "3.10.11"
  }
 },
 "nbformat": 4,
 "nbformat_minor": 5
}
